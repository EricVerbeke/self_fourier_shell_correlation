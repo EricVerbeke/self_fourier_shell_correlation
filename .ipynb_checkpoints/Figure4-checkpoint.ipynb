{
 "cells": [
  {
   "cell_type": "code",
   "execution_count": 1,
   "id": "8260420d-4b61-46a4-bfb2-17160aadeb74",
   "metadata": {},
   "outputs": [],
   "source": [
    "import time\n",
    "import mrcfile\n",
    "import numpy as np\n",
    "import matplotlib.pyplot as plt\n",
    "\n",
    "import fsc_utils as fsc"
   ]
  },
  {
   "cell_type": "code",
   "execution_count": null,
   "id": "2b430a82-bb01-4b27-a3a1-85b45c764262",
   "metadata": {},
   "outputs": [],
   "source": [
    "###\n",
    "\n",
    "# Example 1\n",
    "# EMD 24822 \n",
    "# 20S proteasome\n",
    "# you will need the half maps from https://www.ebi.ac.uk/emdb/EMD-24822 \n",
    "\n",
    "###"
   ]
  },
  {
   "cell_type": "code",
   "execution_count": null,
   "id": "6f02e206-4eb7-40ca-bfb2-5225ba7232cc",
   "metadata": {},
   "outputs": [],
   "source": [
    "map_1_file = ''\n",
    "map_2_file = ''\n",
    "\n",
    "with mrcfile.open(map_1_file) as mrc:\n",
    "    y1 = mrc.data\n",
    "    voxel = mrc.voxel_size.x\n",
    "    mrc.close()\n",
    "    \n",
    "with mrcfile.open(map_2_file) as mrc:\n",
    "    y2 = mrc.data\n",
    "    mrc.close()    "
   ]
  },
  {
   "cell_type": "code",
   "execution_count": null,
   "id": "aac6465e-8037-435d-ace7-61d0faec0ccb",
   "metadata": {},
   "outputs": [],
   "source": [
    "shape = y1.shape\n",
    "N = shape[0]\n",
    "r = N // 2\n",
    "r_corner = int(np.ceil(np.sqrt(np.sum([s**2 for s in shape]))/2))\n",
    "rdists = fsc.radial_distance_grid(y1.shape)  \n",
    "\n",
    "r_signal = 115  # input radius of the structure to be masked for noise estimate\n",
    "\n",
    "sphere_mask = fsc.sphere_mask(rdists, r_signal)\n",
    "\n",
    "eps1 = y1 * ~sphere_mask  # estimate the noise from the excluded region\n",
    "eps2 = y2 * ~sphere_mask\n",
    "\n",
    "ratio = np.sum(~sphere_mask) / y1.size\n",
    "\n",
    "freq = fsc.get_radial_spatial_frequencies(y1, voxel)"
   ]
  },
  {
   "cell_type": "code",
   "execution_count": null,
   "id": "57c9931c-25c8-49fb-9927-136b7c55042b",
   "metadata": {},
   "outputs": [],
   "source": [
    "### compute the spherically averaged power spectrum ###\n",
    "\n",
    "y1_raps = fsc.compute_spherically_averaged_power_spectrum(y1, r)\n",
    "eps1_raps = fsc.compute_spherically_averaged_power_spectrum(eps1, r)\n",
    "\n",
    "y2_raps = fsc.compute_spherically_averaged_power_spectrum(y2, r)\n",
    "eps2_raps = fsc.compute_spherically_averaged_power_spectrum(eps2, r)"
   ]
  },
  {
   "cell_type": "code",
   "execution_count": null,
   "id": "456feaf1-badf-42bc-94e6-99ef9aabbc2d",
   "metadata": {},
   "outputs": [],
   "source": [
    "### compute the FSC and SFSC ###\n",
    "\n",
    "t = time.time()\n",
    "fsc_y1y2 = fsc.two_volume_fsc(y1, y2, rmax=r)\n",
    "print('FSC: ', time.time() - t)\n",
    "\n",
    "t = time.time()\n",
    "y1_whitened = fsc.whitening_transform(y1, eps1, r_corner, ratio) \n",
    "y1_upsample = fsc.fourier_upsample(y1_whitened, 2)\n",
    "sfsc_y1_upsample = np.mean(fsc.single_volume_fsc(y1_upsample, rmax=r, n_splits=1, whiten_upsample=True), axis=0)\n",
    "print('SFSC 1: ', time.time() - t)\n",
    "\n",
    "t = time.time()\n",
    "y2_whitened = fsc.whitening_transform(y2, eps2, r_corner, ratio) \n",
    "y2_upsample = fsc.fourier_upsample(y2_whitened, 2)\n",
    "sfsc_y2_upsample = np.mean(fsc.single_volume_fsc(y2_upsample, rmax=r, n_splits=1, whiten_upsample=True), axis=0)\n",
    "print('SFSC 2: ', time.time() - t)\n",
    "\n",
    "# # or the following approximately equal alternative\n",
    "# ssnr_estimate = (y1_raps - eps1_raps/ratio) / (eps1_raps/ratio)\n",
    "# fsc_from_ssnr = ssnr_estimate / (1 + ssnr_estimate)"
   ]
  },
  {
   "cell_type": "code",
   "execution_count": null,
   "id": "49f8584b-d42f-4d2a-9402-a4092d6c1182",
   "metadata": {},
   "outputs": [],
   "source": [
    "fsc_res = fsc.linear_interp_resolution(fsc_y1y2, freq)\n",
    "sfsc_y1_res = fsc.linear_interp_resolution(sfsc_y1_upsample[1:], freq[1:])\n",
    "sfsc_y2_res = fsc.linear_interp_resolution(sfsc_y2_upsample[1:], freq[1:])"
   ]
  },
  {
   "cell_type": "code",
   "execution_count": null,
   "id": "d4428119-ef7b-4f11-b04c-2526d2edbfee",
   "metadata": {},
   "outputs": [],
   "source": [
    "l1 = 'FSC'\n",
    "l2 = 'SFSC (half 1)'\n",
    "l3 = 'SFSC (half 2)'\n",
    "\n",
    "plt.figure(figsize=(6,4))\n",
    "plt.plot(freq, fsc_y1y2, color='k', linewidth=2, label=l1)\n",
    "plt.plot(freq, sfsc_y1_upsample, linewidth=2, label=l2)\n",
    "plt.plot(freq, sfsc_y2_upsample, linestyle='--', linewidth=2, label=l3)\n",
    "plt.axhline(1/7, color='gray', linestyle='--')\n",
    "plt.rc('axes', labelsize=12)\n",
    "plt.rc('xtick', labelsize=10)\n",
    "plt.rc('ytick', labelsize=10)\n",
    "plt.rc('legend', fontsize=10)\n",
    "plt.grid(which='major', linestyle='--')\n",
    "plt.xlabel('spatial frequency 'r'(${\\AA}^{-1}$)')\n",
    "plt.title('Fourier shell correlation')\n",
    "plt.legend()\n",
    "# plt.savefig('')\n",
    "plt.show()"
   ]
  },
  {
   "cell_type": "code",
   "execution_count": null,
   "id": "67aa22e0-ca3c-47d3-9c77-688b3897662d",
   "metadata": {},
   "outputs": [],
   "source": [
    "ortho_slice_plot(y1)\n",
    "ortho_slice_plot(fsc.log_abs(fsc.ftn(y1)))\n",
    "ortho_slice_plot(eps1)\n",
    "ortho_slice_plot(fsc.log_abs(fsc.ftn(eps1)))\n",
    "\n",
    "plt.figure(figsize=(7,4))\n",
    "plt.semilogy(freq, y1_raps, linewidth=2, label='half 1')\n",
    "plt.semilogy(freq, eps1_raps, linewidth=2, label='eps 1')\n",
    "plt.rc('axes', labelsize=12)\n",
    "plt.rc('xtick', labelsize=10)\n",
    "plt.rc('ytick', labelsize=10)\n",
    "plt.rc('legend', fontsize=10)\n",
    "plt.grid(which='major', linestyle='--')\n",
    "plt.xlabel('spatial frequency 'r'(${\\AA}^{-1}$)')\n",
    "plt.title('spherically averaged power spectrum')\n",
    "plt.legend()\n",
    "# plt.savefig('')\n",
    "plt.show()"
   ]
  },
  {
   "cell_type": "code",
   "execution_count": null,
   "id": "2af58207-9014-4439-ab8c-37050a85870b",
   "metadata": {},
   "outputs": [],
   "source": [
    "###\n",
    "\n",
    "# Example 2\n",
    "# EMD 13234 \n",
    "# 70S ribosome\n",
    "# you will need the half maps from https://www.ebi.ac.uk/emdb/EMD-13234\n",
    "\n",
    "###"
   ]
  },
  {
   "cell_type": "code",
   "execution_count": null,
   "id": "3590c814-720c-4d95-b1e5-1025459c67c4",
   "metadata": {},
   "outputs": [],
   "source": [
    "map_1_file = ''\n",
    "map_2_file = ''\n",
    "\n",
    "with mrcfile.open(map_1_file) as mrc:\n",
    "    y1 = mrc.data\n",
    "    voxel = mrc.voxel_size.x\n",
    "    mrc.close()\n",
    "    \n",
    "with mrcfile.open(map_2_file) as mrc:\n",
    "    y2 = mrc.data\n",
    "    mrc.close() "
   ]
  },
  {
   "cell_type": "code",
   "execution_count": null,
   "id": "fc576833-05d2-4b7d-b8da-17bfe60d548f",
   "metadata": {},
   "outputs": [],
   "source": [
    "shape = y1.shape\n",
    "N = shape[0]\n",
    "r = N // 2\n",
    "r_corner = int(np.ceil(np.sqrt(np.sum([s**2 for s in shape]))/2))\n",
    "rdists = fsc.radial_distance_grid(y1.shape) \n",
    "\n",
    "r_signal = 95 \n",
    "r_filled = 160  # radius of unmasked box from emdb\n",
    "\n",
    "sphere_mask = fsc.sphere_mask(rdists, r_signal)\n",
    "filled_mask = fsc.sphere_mask(rdists, radius=r_filled)  \n",
    "\n",
    "eps1 = y1 * ~sphere_mask\n",
    "eps2 = y2 * ~sphere_mask\n",
    "\n",
    "ratio = (np.sum(filled_mask) - np.sum(sphere_mask)) / np.sum(filled_mask)\n",
    "\n",
    "freq = fsc.get_radial_spatial_frequencies(y1, voxel)"
   ]
  },
  {
   "cell_type": "code",
   "execution_count": null,
   "id": "60e6ed54-dfa4-46b7-9e1b-53d5def299cf",
   "metadata": {},
   "outputs": [],
   "source": [
    "### compute the spherically averaged power spectrum ###\n",
    "\n",
    "y1_raps = fsc.compute_spherically_averaged_power_spectrum(y1, r)\n",
    "eps1_raps = fsc.compute_spherically_averaged_power_spectrum(eps1, r)\n",
    "\n",
    "y2_raps = fsc.compute_spherically_averaged_power_spectrum(y2, r)\n",
    "eps2_raps = fsc.compute_spherically_averaged_power_spectrum(eps2, r)"
   ]
  },
  {
   "cell_type": "code",
   "execution_count": null,
   "id": "3d74ff4a-9817-4501-b813-bd04aa87c3d4",
   "metadata": {},
   "outputs": [],
   "source": [
    "### compute the FSC and SFSC ###\n",
    "\n",
    "t = time.time()\n",
    "fsc_y1y2 = fsc.two_volume_fsc(y1, y2, rmax=r)\n",
    "print('FSC: ', time.time() - t)\n",
    "\n",
    "t = time.time()\n",
    "y1_whitened = fsc.whitening_transform(y1, eps1, r_corner, ratio) \n",
    "y1_upsample = fsc.fourier_upsample(y1_whitened, 2)\n",
    "sfsc_y1_upsample = np.mean(fsc.single_volume_fsc(y1_upsample, rmax=r, n_splits=1, whiten_upsample=True), axis=0)\n",
    "print('SFSC 1: ', time.time() - t)\n",
    "\n",
    "t = time.time()\n",
    "y2_whitened = fsc.whitening_transform(y2, eps2, r_corner, ratio) \n",
    "y2_upsample = fsc.fourier_upsample(y2_whitened, 2)\n",
    "sfsc_y2_upsample = np.mean(fsc.single_volume_fsc(y2_upsample, rmax=r, n_splits=1, whiten_upsample=True), axis=0)\n",
    "print('SFSC 2: ', time.time() - t)"
   ]
  },
  {
   "cell_type": "code",
   "execution_count": null,
   "id": "cbeb3592-f1c7-4a12-8572-cc18164ae7fd",
   "metadata": {},
   "outputs": [],
   "source": [
    "fsc_res = fsc.linear_interp_resolution(fsc_y1y2, freq)\n",
    "sfsc_y1_res = fsc.linear_interp_resolution(sfsc_y1_upsample[1:], freq[1:])\n",
    "sfsc_y2_res = fsc.linear_interp_resolution(sfsc_y2_upsample[1:], freq[1:])"
   ]
  },
  {
   "cell_type": "code",
   "execution_count": null,
   "id": "bdd39863-cc4c-471e-a0d3-35c318b4a6d9",
   "metadata": {},
   "outputs": [],
   "source": [
    "l1 = 'FSC'\n",
    "l2 = 'SFSC (half 1)'\n",
    "l3 = 'SFSC (half 2)'\n",
    "\n",
    "plt.figure(figsize=(6,4))\n",
    "plt.plot(freq, fsc_y1y2, color='k', linewidth=2, label=l1)\n",
    "plt.plot(freq, sfsc_y1_upsample, linewidth=2, label=l2)\n",
    "plt.plot(freq, sfsc_y2_upsample, linestyle='--', linewidth=2, label=l3)\n",
    "plt.axhline(1/7, color='gray', linestyle='--')\n",
    "plt.rc('axes', labelsize=12)\n",
    "plt.rc('xtick', labelsize=10)\n",
    "plt.rc('ytick', labelsize=10)\n",
    "plt.rc('legend', fontsize=10)\n",
    "plt.grid(which='major', linestyle='--')\n",
    "plt.xlabel('spatial frequency 'r'(${\\AA}^{-1}$)')\n",
    "plt.title('Fourier shell correlation')\n",
    "plt.legend()\n",
    "# plt.savefig('')\n",
    "plt.show()"
   ]
  },
  {
   "cell_type": "code",
   "execution_count": null,
   "id": "27231b91-34dc-4576-bc73-8ac8e7de736a",
   "metadata": {},
   "outputs": [],
   "source": [
    "ortho_slice_plot(y1)\n",
    "ortho_slice_plot(fsc.log_abs(fsc.ftn(y1)))\n",
    "ortho_slice_plot(eps1)\n",
    "ortho_slice_plot(fsc.log_abs(fsc.ftn(eps1)))\n",
    "\n",
    "plt.figure(figsize=(7,4))\n",
    "plt.semilogy(freq, y1_raps, linewidth=2, label='half 1')\n",
    "plt.semilogy(freq, eps1_raps, linewidth=2, label='eps 1')\n",
    "plt.rc('axes', labelsize=12)\n",
    "plt.rc('xtick', labelsize=10)\n",
    "plt.rc('ytick', labelsize=10)\n",
    "plt.rc('legend', fontsize=10)\n",
    "plt.grid(which='major', linestyle='--')\n",
    "plt.xlabel('spatial frequency 'r'(${\\AA}^{-1}$)')\n",
    "plt.title('spherically averaged power spectrum')\n",
    "plt.legend()\n",
    "# plt.savefig('')\n",
    "plt.show()"
   ]
  },
  {
   "cell_type": "code",
   "execution_count": null,
   "id": "6c568ba5-92b3-43fc-ba3b-51e0c8d96134",
   "metadata": {},
   "outputs": [],
   "source": [
    "###\n",
    "\n",
    "# Example 3\n",
    "# EMD 27648\n",
    "# thyrotropin receptor\n",
    "# you will need the half maps in https://www.ebi.ac.uk/emdb/EMD-27648\n",
    "\n",
    "###"
   ]
  },
  {
   "cell_type": "code",
   "execution_count": null,
   "id": "ba3c4d64-08b8-4eff-b672-f8edc28195a2",
   "metadata": {},
   "outputs": [],
   "source": [
    "map_1_file = ''\n",
    "map_2_file = ''\n",
    "\n",
    "with mrcfile.open(map_1_file) as mrc:\n",
    "    y1 = mrc.data\n",
    "    voxel = mrc.voxel_size.x\n",
    "    mrc.close()\n",
    "    \n",
    "with mrcfile.open(map_2_file) as mrc:\n",
    "    y2 = mrc.data\n",
    "    mrc.close() "
   ]
  },
  {
   "cell_type": "code",
   "execution_count": null,
   "id": "8b654269-5cb7-496e-8be8-cf469d935263",
   "metadata": {},
   "outputs": [],
   "source": [
    "shape = y1.shape\n",
    "N = shape[0]\n",
    "r = N // 2\n",
    "r_corner = int(np.ceil(np.sqrt(np.sum([s**2 for s in shape]))/2))\n",
    "rdists = fsc.radial_distance_grid(y1.shape)  \n",
    "\n",
    "r_signal = 115  # input radius of the structure to be masked for noise estimate\n",
    "\n",
    "sphere_mask = fsc.sphere_mask(rdists, r_signal)\n",
    "\n",
    "eps1 = y1 * ~sphere_mask  # estimate the noise from the excluded region\n",
    "eps2 = y2 * ~sphere_mask\n",
    "\n",
    "ratio = np.sum(~sphere_mask) / y1.size\n",
    "\n",
    "freq = fsc.get_radial_spatial_frequencies(y1, voxel)"
   ]
  },
  {
   "cell_type": "code",
   "execution_count": null,
   "id": "363e36b8-18de-4d5c-beff-b92d57cb24b0",
   "metadata": {},
   "outputs": [],
   "source": [
    "### compute the spherically averaged power spectrum ###\n",
    "\n",
    "y1_raps = fsc.compute_spherically_averaged_power_spectrum(y1, r)\n",
    "eps1_raps = fsc.compute_spherically_averaged_power_spectrum(eps1, r)\n",
    "\n",
    "y2_raps = fsc.compute_spherically_averaged_power_spectrum(y2, r)\n",
    "eps2_raps = fsc.compute_spherically_averaged_power_spectrum(eps2, r)"
   ]
  },
  {
   "cell_type": "code",
   "execution_count": null,
   "id": "19b8920e-e04a-479c-af4f-52366aa7c24f",
   "metadata": {},
   "outputs": [],
   "source": [
    "### compute the FSC and SFSC ###\n",
    "\n",
    "t = time.time()\n",
    "fsc_y1y2 = fsc.two_volume_fsc(y1, y2, rmax=r)\n",
    "print('FSC: ', time.time() - t)\n",
    "\n",
    "t = time.time()\n",
    "y1_whitened = fsc.whitening_transform(y1, eps1, r_corner, ratio) \n",
    "y1_upsample = fsc.fourier_upsample(y1_whitened, 2)\n",
    "sfsc_y1_upsample = np.mean(fsc.single_volume_fsc(y1_upsample, rmax=r, n_splits=1, whiten_upsample=True), axis=0)\n",
    "print('SFSC 1: ', time.time() - t)\n",
    "\n",
    "t = time.time()\n",
    "y2_whitened = fsc.whitening_transform(y2, eps2, r_corner, ratio) \n",
    "y2_upsample = fsc.fourier_upsample(y2_whitened, 2)\n",
    "sfsc_y2_upsample = np.mean(fsc.single_volume_fsc(y2_upsample, rmax=r, n_splits=1, whiten_upsample=True), axis=0)\n",
    "print('SFSC 2: ', time.time() - t)"
   ]
  },
  {
   "cell_type": "code",
   "execution_count": null,
   "id": "62708ebc-6b5f-4239-89a5-5700a85e57de",
   "metadata": {},
   "outputs": [],
   "source": [
    "fsc_res = fsc.linear_interp_resolution(fsc_y1y2, freq)\n",
    "sfsc_y1_res = fsc.linear_interp_resolution(sfsc_y1_upsample[1:], freq[1:])\n",
    "sfsc_y2_res = fsc.linear_interp_resolution(sfsc_y2_upsample[1:], freq[1:])"
   ]
  },
  {
   "cell_type": "code",
   "execution_count": null,
   "id": "b36d8387-1669-4ab8-9fdd-eb2eb345806b",
   "metadata": {},
   "outputs": [],
   "source": [
    "l1 = 'FSC'\n",
    "l2 = 'SFSC (half 1)'\n",
    "l3 = 'SFSC (half 2)'\n",
    "\n",
    "plt.figure(figsize=(6,4))\n",
    "plt.plot(freq[2:-1], fsc_y1y2[2:-1], color='k', linewidth=2, label=l1)\n",
    "plt.plot(freq[2:-1], sfsc_y1_upsample[2:-1], linewidth=2, label=l2)\n",
    "plt.plot(freq[2:-1], sfsc_y2_upsample[2:-1], linestyle='--', linewidth=2, label=l3)\n",
    "plt.axhline(1/7, color='gray', linestyle='--')\n",
    "plt.rc('axes', labelsize=12)\n",
    "plt.rc('xtick', labelsize=10)\n",
    "plt.rc('ytick', labelsize=10)\n",
    "plt.rc('legend', fontsize=10)\n",
    "plt.grid(which='major', linestyle='--')\n",
    "plt.xlabel('spatial frequency 'r'(${\\AA}^{-1}$)')\n",
    "plt.title('Fourier shell correlation')\n",
    "plt.legend()\n",
    "# plt.savefig('')\n",
    "plt.show()"
   ]
  },
  {
   "cell_type": "code",
   "execution_count": null,
   "id": "d9a094f5-f240-4517-a395-d831b9992464",
   "metadata": {},
   "outputs": [],
   "source": [
    "ortho_slice_plot(y1)\n",
    "ortho_slice_plot(fsc.log_abs(fsc.ftn(y1)))\n",
    "ortho_slice_plot(eps1)\n",
    "ortho_slice_plot(fsc.log_abs(fsc.ftn(eps1)))\n",
    "\n",
    "plt.figure(figsize=(7,4))\n",
    "plt.semilogy(freq, y1_raps, linewidth=2, label='half 1')\n",
    "plt.semilogy(freq, eps1_raps, linewidth=2, label='eps 1')\n",
    "plt.rc('axes', labelsize=12)\n",
    "plt.rc('xtick', labelsize=10)\n",
    "plt.rc('ytick', labelsize=10)\n",
    "plt.rc('legend', fontsize=10)\n",
    "plt.grid(which='major', linestyle='--')\n",
    "plt.xlabel('spatial frequency 'r'(${\\AA}^{-1}$)')\n",
    "plt.title('spherically averaged power spectrum')\n",
    "plt.legend()\n",
    "# plt.savefig('')\n",
    "plt.show()"
   ]
  },
  {
   "cell_type": "code",
   "execution_count": null,
   "id": "88d07285-8ae5-400c-a91a-86776b62af91",
   "metadata": {},
   "outputs": [],
   "source": [
    "###\n",
    "\n",
    "# Example 4\n",
    "# EMD 20278 \n",
    "# PAC1 GPCR Receptor complex\n",
    "# you will need the half maps in https://www.ebi.ac.uk/emdb/EMD-20278\n",
    "\n",
    "###"
   ]
  },
  {
   "cell_type": "code",
   "execution_count": 2,
   "id": "9ed5dc87-124d-4319-963e-14e11baddfe7",
   "metadata": {},
   "outputs": [],
   "source": [
    "map_1_file = ''\n",
    "map_2_file = ''\n",
    "\n",
    "with mrcfile.open(map_1_file) as mrc:\n",
    "    y1 = mrc.data\n",
    "    voxel = mrc.voxel_size.x\n",
    "    mrc.close()\n",
    "    \n",
    "with mrcfile.open(map_2_file) as mrc:\n",
    "    y2 = mrc.data\n",
    "    mrc.close() "
   ]
  },
  {
   "cell_type": "code",
   "execution_count": 3,
   "id": "fe3f345c-0a65-45e1-9941-e639a3bd7b5f",
   "metadata": {},
   "outputs": [],
   "source": [
    "shape = y1.shape\n",
    "N = shape[0]\n",
    "r = N // 2\n",
    "r_corner = int(np.ceil(np.sqrt(np.sum([s**2 for s in shape]))/2))\n",
    "rdists = fsc.radial_distance_grid(y1.shape)  \n",
    "\n",
    "r_signal = 110  # input radius of the structure to be masked for noise estimate\n",
    "\n",
    "sphere_mask = fsc.sphere_mask(rdists, r_signal)\n",
    "\n",
    "eps1 = y1 * ~sphere_mask  # estimate the noise from the excluded region\n",
    "eps2 = y2 * ~sphere_mask\n",
    "\n",
    "ratio = np.sum(~sphere_mask) / y1.size\n",
    "\n",
    "freq = fsc.get_radial_spatial_frequencies(y1, voxel)"
   ]
  },
  {
   "cell_type": "code",
   "execution_count": 4,
   "id": "23757190-7651-4bac-bd19-9a462f41815f",
   "metadata": {},
   "outputs": [],
   "source": [
    "### compute the spherically averaged power spectrum ###\n",
    "\n",
    "y1_raps = fsc.compute_spherically_averaged_power_spectrum(y1, r)\n",
    "eps1_raps = fsc.compute_spherically_averaged_power_spectrum(eps1, r)\n",
    "\n",
    "y2_raps = fsc.compute_spherically_averaged_power_spectrum(y2, r)\n",
    "eps2_raps = fsc.compute_spherically_averaged_power_spectrum(eps2, r)"
   ]
  },
  {
   "cell_type": "code",
   "execution_count": 21,
   "id": "8145592e-cdb2-40ca-ac07-5d73d5615af6",
   "metadata": {},
   "outputs": [],
   "source": [
    "Y1 = fsc.ftn(y1)\n",
    "\n",
    "for ri in range(1, r):  \n",
    "    mask = fsc.shell_mask(rdists, ri)\n",
    "    Y1[mask] = (1 / np.sqrt(eps1_raps[ri])) * Y1[mask]\n",
    "\n",
    "y1_whitened = fsc.iftn(Y1)"
   ]
  },
  {
   "cell_type": "code",
   "execution_count": 22,
   "id": "fcf64a82-52b8-4b84-8c88-6f0847f59326",
   "metadata": {},
   "outputs": [
    {
     "name": "stdout",
     "output_type": "stream",
     "text": [
      "SFSC 1:  112.87850975990295\n"
     ]
    }
   ],
   "source": [
    "### compute the FSC and SFSC ###\n",
    "\n",
    "t = time.time()\n",
    "fsc_y1y2 = fsc.two_volume_fsc(y1, y2, rmax=r)\n",
    "print('FSC: ', time.time() - t)\n",
    "\n",
    "t = time.time()\n",
    "y1_whitened = fsc.whitening_transform(y1, eps1, r_corner, ratio) \n",
    "y1_upsample = fsc.fourier_upsample(y1_whitened, 2)\n",
    "sfsc_y1_upsample = np.mean(fsc.single_volume_fsc(y1_upsample, rmax=r, n_splits=1, whiten_upsample=True), axis=0)\n",
    "print('SFSC 1: ', time.time() - t)\n",
    "\n",
    "t = time.time()\n",
    "y2_whitened = fsc.whitening_transform(y2, eps2, r_corner, ratio) \n",
    "y2_upsample = fsc.fourier_upsample(y2_whitened, 2)\n",
    "sfsc_y2_upsample = np.mean(fsc.single_volume_fsc(y2_upsample, rmax=r, n_splits=1, whiten_upsample=True), axis=0)\n",
    "print('SFSC 2: ', time.time() - t)"
   ]
  },
  {
   "cell_type": "code",
   "execution_count": null,
   "id": "f58bd37d-f3b4-46cd-abc4-0a91643ce7a6",
   "metadata": {},
   "outputs": [],
   "source": [
    "fsc_res = fsc.linear_interp_resolution(fsc_y1y2, freq)\n",
    "sfsc_y1_res = fsc.linear_interp_resolution(sfsc_y1_upsample[1:], freq[1:])\n",
    "sfsc_y2_res = fsc.linear_interp_resolution(sfsc_y2_upsample[1:], freq[1:])"
   ]
  },
  {
   "cell_type": "code",
   "execution_count": 30,
   "id": "1baaa0b3-eb57-4740-a6a5-ae82edd0dcbd",
   "metadata": {},
   "outputs": [
    {
     "name": "stderr",
     "output_type": "stream",
     "text": [
      "No handles with labels found to put in legend.\n"
     ]
    },
    {
     "data": {
      "image/png": "[encoded data removed]",
      "text/plain": [
       "<Figure size 432x288 with 1 Axes>"
      ]
     },
     "metadata": {
      "needs_background": "light"
     },
     "output_type": "display_data"
    }
   ],
   "source": [
    "l1 = 'FSC'\n",
    "l2 = 'SFSC (half 1)'\n",
    "l3 = 'SFSC (half 2)'\n",
    "\n",
    "plt.figure(figsize=(6,4))\n",
    "plt.plot(freq[1:], fsc_y1y2[1:], color='k', linewidth=2, label=l1)\n",
    "plt.plot(freq[1:], sfsc_y1_upsample[1:], linewidth=2, label=l2)\n",
    "plt.plot(freq[1:], sfsc_y2_upsample[1:], linestyle='--', linewidth=2, label=l3)\n",
    "plt.plot(freq, sfsc_y1)\n",
    "plt.axhline(1/7, color='gray', linestyle='--')\n",
    "plt.rc('axes', labelsize=12)\n",
    "plt.rc('xtick', labelsize=10)\n",
    "plt.rc('ytick', labelsize=10)\n",
    "plt.rc('legend', fontsize=10)\n",
    "plt.grid(which='major', linestyle='--')\n",
    "plt.xlabel('spatial frequency 'r'(${\\AA}^{-1}$)')\n",
    "plt.title('Fourier shell correlation')\n",
    "plt.legend()\n",
    "# plt.savefig('')\n",
    "plt.show()"
   ]
  },
  {
   "cell_type": "code",
   "execution_count": null,
   "id": "3152f1f5-487e-4130-abdd-ffa3983e6931",
   "metadata": {},
   "outputs": [],
   "source": [
    "ortho_slice_plot(y1)\n",
    "ortho_slice_plot(fsc.log_abs(fsc.ftn(y1)))\n",
    "ortho_slice_plot(eps1)\n",
    "ortho_slice_plot(fsc.log_abs(fsc.ftn(eps1)))\n",
    "\n",
    "plt.figure(figsize=(7,4))\n",
    "plt.semilogy(freq, y1_raps, linewidth=2, label='half 1')\n",
    "plt.semilogy(freq, eps1_raps, linewidth=2, label='eps 1')\n",
    "plt.rc('axes', labelsize=12)\n",
    "plt.rc('xtick', labelsize=10)\n",
    "plt.rc('ytick', labelsize=10)\n",
    "plt.rc('legend', fontsize=10)\n",
    "plt.grid(which='major', linestyle='--')\n",
    "plt.xlabel('spatial frequency 'r'(${\\AA}^{-1}$)')\n",
    "plt.title('spherically averaged power spectrum')\n",
    "plt.legend()\n",
    "# plt.savefig('')\n",
    "plt.show()"
   ]
  }
 ],
 "metadata": {
  "kernelspec": {
   "display_name": "Python 3 (ipykernel)",
   "language": "python",
   "name": "python3"
  },
  "language_info": {
   "codemirror_mode": {
    "name": "ipython",
    "version": 3
   },
   "file_extension": ".py",
   "mimetype": "text/x-python",
   "name": "python",
   "nbconvert_exporter": "python",
   "pygments_lexer": "ipython3",
   "version": "3.9.7"
  }
 },
 "nbformat": 4,
 "nbformat_minor": 5
}
