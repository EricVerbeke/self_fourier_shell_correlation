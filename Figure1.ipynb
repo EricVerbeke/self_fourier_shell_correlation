{
 "cells": [
  {
   "cell_type": "code",
   "execution_count": 1,
   "id": "6d29583a-541e-4716-829c-a8856f24459f",
   "metadata": {},
   "outputs": [],
   "source": [
    "import mrcfile \n",
    "\n",
    "import numpy as np\n",
    "import matplotlib.pyplot as plt\n",
    "\n",
    "import fsc_utils as fsc"
   ]
  },
  {
   "cell_type": "code",
   "execution_count": 2,
   "id": "3031cda7-efbb-4c0f-ab4a-654f8d9a0c20",
   "metadata": {},
   "outputs": [],
   "source": [
    "cmap_a = [plt.get_cmap('tab20c').colors[idx] for idx in [0, 4, 8, 12]]\n",
    "cmap_b = [plt.get_cmap('tab20c').colors[idx] for idx in [2, 6, 10, 12]]"
   ]
  },
  {
   "cell_type": "code",
   "execution_count": 3,
   "id": "8d51510d-04cf-4fb0-b71b-1fe165ef8439",
   "metadata": {},
   "outputs": [],
   "source": [
    "# You will need the 3-D volume and mask from: https://www.ebi.ac.uk/emdb/EMD-11657\n",
    "\n",
    "map_file = ''\n",
    "mask_file = ''\n",
    "    \n",
    "with mrcfile.open(map_file) as mrc:\n",
    "    x = mrc.data\n",
    "    voxel = mrc.voxel_size.x\n",
    "    mrc.close()\n",
    "    \n",
    "with mrcfile.open(mask_file) as mrc:\n",
    "    mask = mrc.data\n",
    "    voxel = mrc.voxel_size.x\n",
    "    mrc.close()    "
   ]
  },
  {
   "cell_type": "code",
   "execution_count": 4,
   "id": "c3ab250d-0aeb-41ea-90e8-839f8545d8d2",
   "metadata": {},
   "outputs": [],
   "source": [
    "np.random.seed(0)\n",
    "\n",
    "snr = 30\n",
    "B_signal = 100\n",
    "B_noise = 0\n",
    "\n",
    "x = x * mask\n",
    "\n",
    "x = fsc.fourier_downsample(x, 1.5)\n",
    "r = x.shape[0]//2\n",
    "\n",
    "y1 = fsc.generate_noisy_data(x, voxel, snr, B_signal, B_noise, return_noise=False)"
   ]
  },
  {
   "cell_type": "code",
   "execution_count": 5,
   "id": "58cac62f-e993-414e-b96a-b282ee630ab8",
   "metadata": {},
   "outputs": [],
   "source": [
    "s1 = y1[:, :, ::2]\n",
    "s2 = y1[:, :, 1::2]\n",
    "S2 = fsc.phase_shift_3d(np.fft.fftshift(np.fft.fftn(s2)), 0.5, 0, 0)\n",
    "s2_shift = np.fft.ifftn(np.fft.ifftshift(S2)).real\n",
    "\n",
    "s3 = y1[:, ::2, :]\n",
    "s4 = y1[:, 1::2, :]\n",
    "S4 = fsc.phase_shift_3d(np.fft.fftshift(np.fft.fftn(s4)), 0, 0.5, 0)\n",
    "s4_shift = np.fft.ifftn(np.fft.ifftshift(S4)).real\n",
    "\n",
    "s5 = y1[::2, :, :]\n",
    "s6 = y1[1::2, :, :]\n",
    "S6 = fsc.phase_shift_3d(np.fft.fftshift(np.fft.fftn(s6)), 0, 0, 0.5)\n",
    "s6_shift = np.fft.ifftn(np.fft.ifftshift(S6)).real"
   ]
  },
  {
   "cell_type": "code",
   "execution_count": 6,
   "id": "226de8dd-d676-4e4f-ab80-3c9bb9ebd862",
   "metadata": {},
   "outputs": [],
   "source": [
    "c1 = fsc.two_volume_fsc(s1, s2_shift, r)\n",
    "c2 = fsc.two_volume_fsc(s3, s4_shift, r)\n",
    "c3 = fsc.two_volume_fsc(s5, s6_shift, r)\n",
    "\n",
    "c_avg = np.mean([c1, c2, c3], axis=0)\n",
    "\n",
    "freq = fsc.get_radial_spatial_frequencies(s1, 1)"
   ]
  },
  {
   "cell_type": "code",
   "execution_count": 7,
   "id": "917f3f37-2aab-4d72-a432-faf1254bb16b",
   "metadata": {},
   "outputs": [
    {
     "data": {
      "image/png": "[encoded data removed]",
      "text/plain": [
       "<Figure size 504x288 with 1 Axes>"
      ]
     },
     "metadata": {
      "needs_background": "light"
     },
     "output_type": "display_data"
    }
   ],
   "source": [
    "plt.figure(figsize=(7,4))\n",
    "# plt.plot(freq, c1, color=cmap_a[0], linewidth=2, label='split row')\n",
    "# plt.plot(freq, c3, color=cmap_a[2], linewidth=2, label='split layer')\n",
    "# plt.plot(freq, c2, color=cmap_a[3], linewidth=2, label='split column')\n",
    "plt.plot(freq, c_avg, color='k', linestyle='-', linewidth=2, label='average')\n",
    "plt.rc('axes', labelsize=12)\n",
    "plt.rc('xtick', labelsize=10)\n",
    "plt.rc('ytick', labelsize=10)\n",
    "plt.rc('legend', fontsize=11)\n",
    "plt.grid(which='major', linestyle='--')\n",
    "plt.xlabel('spatial frequency 'r'(${\\AA}^{-1}$)')\n",
    "plt.title('Fourier shell correlation')\n",
    "# plt.legend()\n",
    "# plt.savefig('')\n",
    "plt.show()"
   ]
  },
  {
   "cell_type": "code",
   "execution_count": null,
   "id": "eba5dc90-d121-4fc8-b96e-af5f14a49df9",
   "metadata": {},
   "outputs": [],
   "source": []
  }
 ],
 "metadata": {
  "kernelspec": {
   "display_name": "Python 3 (ipykernel)",
   "language": "python",
   "name": "python3"
  },
  "language_info": {
   "codemirror_mode": {
    "name": "ipython",
    "version": 3
   },
   "file_extension": ".py",
   "mimetype": "text/x-python",
   "name": "python",
   "nbconvert_exporter": "python",
   "pygments_lexer": "ipython3",
   "version": "3.8.5"
  }
 },
 "nbformat": 4,
 "nbformat_minor": 5
}
